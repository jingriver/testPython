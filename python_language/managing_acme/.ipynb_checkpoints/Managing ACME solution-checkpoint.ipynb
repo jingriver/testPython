{
 "metadata": {
  "description": "",
  "difficulty": "simple",
  "duration": "short",
  "exercise_number": 2,
  "export_allowed": true,
  "flavor": "general",
  "language": "english",
  "level": "fluency",
  "module": "PyFund_list",
  "name": "managing_acme.ipynb",
  "pre_requisites": [
   "PyFund_list",
   "header"
  ],
  "programming_goals": [],
  "python_goals": [
   "list creation",
   "range",
   "slicing"
  ]
 },
 "nbformat": 3,
 "nbformat_minor": 0,
 "worksheets": [
  {
   "cells": [
    {
     "cell_type": "markdown",
     "metadata": {
      "canopy_exercise": {
       "cell_type": "question"
      }
     },
     "source": [
      "Managing ACME\n",
      "=============\n",
      "\n",
      "Question 1\n",
      "----------\n",
      "We are now (badly) managing the employees of a new startup called [ACME Corp.](http://en.wikipedia.org/wiki/Acme_Corporation), which has locations in Taos, Phoenix, Santa Fe, and Flagstaff. The employees of this company have the following email addresses (by order of arrival date in the company):\n",
      "<pre>\n",
      "\"Wile.E.Coyote@acme.com\", \n",
      "\"Looney.Tunes@acme.com\", \n",
      "\"Chuck.Jones@acme.com\", \n",
      "\"Road.Runner@acme.com\", \n",
      "\"Michael.Maltese@acme.com\",\n",
      "\"Speedy.Gonzales@acme.com\",\n",
      "\"Calamity.Coyote@acme.com\",\n",
      "\"Bugs.Bunny@texavery.com\"\n",
      "</pre>\n",
      "\n",
      "Copy these 8 emails into a list called `employee_emails`. Also create a list of employee IDs from 0 to 7 without writing each ID manually (let's assume that we will reuse your code once ACME's products finally start to work and sell and the company becomes huge). "
     ]
    },
    {
     "cell_type": "code",
     "collapsed": false,
     "input": [
      "employee_emails = [\"Wile.E.Coyote@acme.com\", \n",
      "                   \"Looney.Tunes@acme.com\", \n",
      "                   \"Chuck.Jones@acme.com\", \n",
      "                   \"Road.Runner@acme.com\", \n",
      "                   \"Michael.Maltese@acme.com\", \n",
      "                   \"Speedy.Gonzales@acme.com\",\n",
      "                   \"Calamity.Coyote@acme.com\", \n",
      "                   \"Bugs.Bunny@texavery.com\"]\n",
      "employee_ids = range(8)"
     ],
     "language": "python",
     "metadata": {
      "canopy_exercise": {
       "cell_type": "solution"
      }
     },
     "outputs": []
    },
    {
     "cell_type": "markdown",
     "metadata": {
      "canopy_exercise": {
       "cell_type": "question"
      }
     },
     "source": [
      "Question 2\n",
      "----------\n",
      "A new employee, number 8, is joining the company: \"Acceleratti incredibilis\". Add his email address to the list. Update the employee_ids list."
     ]
    },
    {
     "cell_type": "code",
     "collapsed": false,
     "input": [
      "employee_emails.append(\"Acceleratti.incredibilis@acme.com\")\n",
      "employee_ids.append(8)"
     ],
     "language": "python",
     "metadata": {
      "canopy_exercise": {
       "cell_type": "solution"
      }
     },
     "outputs": []
    },
    {
     "cell_type": "markdown",
     "metadata": {
      "canopy_exercise": {
       "cell_type": "question"
      }
     },
     "source": [
      "Question 3\n",
      "----------\n",
      "Suprisingly, one of ACME's products, the \"Earthquake Pills\" work remarkably well and were developed surprisingly fast. Pull up the emails for the team responsible for them, that is employees with IDs 2, 3, 4 and 5. This can be done using slicing."
     ]
    },
    {
     "cell_type": "code",
     "collapsed": false,
     "input": [
      "print employee_emails[2:6]"
     ],
     "language": "python",
     "metadata": {
      "canopy_exercise": {
       "cell_type": "solution"
      }
     },
     "outputs": []
    },
    {
     "cell_type": "markdown",
     "metadata": {
      "canopy_exercise": {
       "cell_type": "question"
      }
     },
     "source": [
      "Question 4\n",
      "----------\n",
      "Despite the Earthquake Pills, this year, the poor financial results of the company only allow to pay bonuses to every other employee (starting with employee 0). Using slicing, pull up their email addresses to announce the good news to them. (Once we learn about NumPy and SciPy, we will learn to select employees based on their performances rather than arrival dates!)"
     ]
    },
    {
     "cell_type": "code",
     "collapsed": false,
     "input": [
      "print employee_emails[::2]"
     ],
     "language": "python",
     "metadata": {
      "canopy_exercise": {
       "cell_type": "solution"
      }
     },
     "outputs": []
    },
    {
     "cell_type": "markdown",
     "metadata": {
      "canopy_exercise": {
       "cell_type": "question"
      }
     },
     "source": [
      "Question 5\n",
      "----------\n",
      "If fact the following year, the company is doing even worse. Mad not to have had a bonus the year before the Looney Tunes decides to spin off half the company to create a new one with employees with odd IDs, except that Bugs Bunny guy (employee 7), because he doesn't really belong here... Pull up their emails to send them a secret message."
     ]
    },
    {
     "cell_type": "markdown",
     "metadata": {
      "canopy_exercise": {
       "cell_type": "hint"
      }
     },
     "source": [
      "Again slicing could help here since we can extract every other element with it. Could we change the start point to grab the other set of every other employee?"
     ]
    },
    {
     "cell_type": "code",
     "collapsed": false,
     "input": [
      "# The odd employees (no pun intended) can be collected by selecting a slice \n",
      "# that has a step of 2 and a start of 1 instead of starting from the beginning.\n",
      "employee_emails[1:7:2]"
     ],
     "language": "python",
     "metadata": {
      "canopy_exercise": {
       "cell_type": "solution"
      }
     },
     "outputs": []
    },
    {
     "cell_type": "markdown",
     "metadata": {
      "canopy_exercise": {
       "cell_type": "question"
      }
     },
     "source": [
      "Question 6\n",
      "----------\n",
      "His communication was intercepted: Looney Tunes is fired. Remove him from the list of employees. Remove his employee ID as well. "
     ]
    },
    {
     "cell_type": "code",
     "collapsed": false,
     "input": [
      "# We can remove values using either the remove or the pop methods. \n",
      "employee_emails.remove('Looney.Tunes@acme.com')\n",
      "employee_ids.pop(1)"
     ],
     "language": "python",
     "metadata": {},
     "outputs": []
    },
    {
     "cell_type": "markdown",
     "metadata": {
      "canopy_exercise": {
       "cell_type": "question"
      }
     },
     "source": [
      "Question 7\n",
      "----------\n",
      "Capture the list of locations of the company in a list (ordered by importance): \"Taos\", \"Phoenix\", \"Santa Fe\", and \"Flagstaff\". Considering the management issues in ACME, it is decided to reverse the order of these locations, and move the headquarters to Flagstaff. Update the list of locations."
     ]
    },
    {
     "cell_type": "code",
     "collapsed": false,
     "input": [
      "acme_locations = [\"Taos\", \"Phoenix\", \"Santa Fe\", \"Flagstaff\"]\n",
      "# Remember that reverse is an inplace operation so \n",
      "# acme_locations = acme_locations.reverse()\n",
      "# would give surprising results. Try it out if you want and check the value of \n",
      "# acme_locations. We will understand that once we learn about functions. \n",
      "acme_locations.reverse()\n",
      "print acme_locations"
     ],
     "language": "python",
     "metadata": {
      "canopy_exercise": {
       "cell_type": "solution"
      }
     },
     "outputs": []
    },
    {
     "cell_type": "markdown",
     "metadata": {
      "canopy_exercise": {
       "cell_type": "question"
      }
     },
     "source": [
      "Question 8\n",
      "----------\n",
      "The Boss ends up missing the nice skiing in Taos, and decides to reverse the location order again. The challenge here is to reverse the order without using the reverse method."
     ]
    },
    {
     "cell_type": "markdown",
     "metadata": {
      "canopy_exercise": {
       "cell_type": "hint"
      }
     },
     "source": [
      "Slicing could help..."
     ]
    },
    {
     "cell_type": "code",
     "collapsed": false,
     "input": [
      "# Slicing can help here because the step can be negative: -1 goes backwards though the list.\n",
      "acme_locations = acme_locations[::-1]\n",
      "print acme_locations"
     ],
     "language": "python",
     "metadata": {
      "canopy_exercise": {
       "cell_type": "solution"
      }
     },
     "outputs": []
    }
   ],
   "metadata": {}
  }
 ]
}