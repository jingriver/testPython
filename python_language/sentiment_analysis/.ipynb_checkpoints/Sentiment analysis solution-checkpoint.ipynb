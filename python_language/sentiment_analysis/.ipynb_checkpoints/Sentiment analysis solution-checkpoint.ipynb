{
 "metadata": {
  "name": "",
  "signature": "sha256:fe54748ade4f0bff1b9cd479bfebc9f5c6ab462b082763a64fded8d53b810a58"
 },
 "nbformat": 3,
 "nbformat_minor": 0,
 "worksheets": [
  {
   "cells": [
    {
     "cell_type": "heading",
     "level": 1,
     "metadata": {},
     "source": [
      "Sentiment analysis exercise"
     ]
    },
    {
     "cell_type": "markdown",
     "metadata": {},
     "source": [
      "We have been hired by the White House to analyze the image of President Obama in social media. As part of this effort, we would like to analyze the stream of tweets and rank them by how positive they are for the Obama administration.\n",
      "\n",
      "Sociologists have provided us with a list of \"positive\" and \"negative\" terms that we can use to compute a positivity and negativity index:\n",
      "\n",
      "  `positivity index = number of positive words / number of words`\n",
      "\n",
      "1. Execute the code below to download the list of positive and negative terms, and the tweets [1];\n",
      "2. Create a new list, containing a \"cleaned\" version of the tweets:\n",
      "   remove puncuation, and transform to lower case;\n",
      "3. For each tweet, count the number of positive and negative words in the sentence, and compute the positivity and negativity index.\n",
      "\n",
      "Bonus:\n",
      "\n",
      "4. Measure how much time is needed to complete the sentiment analysis on all tweets, using the `time.time()` function. Think about the performance of data type operations, and estimate how the key operations scale with number of tweets and number of sentiment terms. An efficient implementation should take a fraction of a second, can you improve your solution?\n",
      "\n",
      "[1] The sentiment word data has been released by Theresa Wilson, Janyce Wiebe, and Paul Hoffmann at the University of Pittsburgh, and processed by Neal Caren\n",
      "See http://nealcaren.web.unc.edu/an-introduction-to-text-analysis-with-python-part-3/ for details."
     ]
    },
    {
     "cell_type": "code",
     "collapsed": false,
     "input": [
      "from time import time\n",
      "import urllib2"
     ],
     "language": "python",
     "metadata": {},
     "outputs": [],
     "prompt_number": 1
    },
    {
     "cell_type": "code",
     "collapsed": false,
     "input": [
      "# Download the positive terms.\n",
      "response = urllib2.urlopen('http://www.unc.edu/~ncaren/haphazard/positive.txt')\n",
      "positive_words = [word.strip() for word in response]\n",
      "print positive_words[::100]"
     ],
     "language": "python",
     "metadata": {},
     "outputs": [
      {
       "output_type": "stream",
       "stream": "stdout",
       "text": [
        "['abidance', 'amazing', 'basic', 'chaste', 'constructive', 'devout', 'encouraging', 'exultingly', 'freedoms', 'guidance', 'impartially', 'intelligent', 'light', 'mild', 'patiently', 'preemptive', 'rationality', 'reverence', 'shrewdness', 'studious', 'timely', 'upward', 'wise']\n"
       ]
      }
     ],
     "prompt_number": 2
    },
    {
     "cell_type": "code",
     "collapsed": false,
     "input": [
      "# Download the negative terms.\n",
      "response = urllib2.urlopen('http://www.unc.edu/~ncaren/haphazard/negative.txt')\n",
      "negative_words = [word.strip() for word in response]\n",
      "print negative_words[::100]"
     ],
     "language": "python",
     "metadata": {},
     "outputs": [
      {
       "output_type": "stream",
       "stream": "stdout",
       "text": [
        "['abandoned', 'ambiguous', 'audaciously', 'bitingly', 'butchery', 'concessions', 'crushing', 'dehumanization', 'devoid', 'dishonest', 'distraction', 'eccentric', 'extermination', 'fiction', 'frown', 'grudges', 'helplessly', 'illogically', 'inadequately', 'indistinct', 'innuendo', 'irrationality', 'lecherous', 'malcontented', 'mislead', 'neurotic', 'outrageousness', 'pessimistically', 'protest', 'remorseless', 'rupture', 'severely', 'sloppily', 'stern', 'suspicious', 'transgression', 'unease', 'unsophisticated', 'violator', 'wrought']\n"
       ]
      }
     ],
     "prompt_number": 3
    },
    {
     "cell_type": "code",
     "collapsed": false,
     "input": [
      "# Download a list of tweets about President Obama\n",
      "response = urllib2.urlopen('http://www.unc.edu/~ncaren/haphazard/obama_tweets.txt')\n",
      "tweets = [tweet.strip() for tweet in response]\n",
      "print 'Number of tweets:', len(tweets)\n",
      "for tweet in tweets[::200]:\n",
      "    print '-', tweet"
     ],
     "language": "python",
     "metadata": {},
     "outputs": [
      {
       "output_type": "stream",
       "stream": "stdout",
       "text": [
        "Number of tweets: 1365\n",
        "- Obama has called the GOP budget social Darwinism. Nice try, but they believe in social creationism.\n",
        "- What Obama could learn from Muhammad Ali | Stephen M. Walt: http://t.co/T8Mfzi0i\n",
        "- @FHQ of course, if Obama just wins PA, he's at 270 in most scenarios. Obama goes 2/4, he's definitely over it (assuming VA is blue.)\n",
        "- RealClearPolitics Video - Carney: Obama Not Understood Because He Spoke In \"Shorthand\" Since He Is A Law Professor http://t.co/vbHf1w9e\n",
        "- RT @kesgardner: Obama's college records? #whatsromneyhiding\n",
        "- Obama signs small business legislation - Yahoo! News http://t.co/9JQdRBUs\n",
        "- RT @Professor_Why: #WhatsRomneyHiding - his long-form birth certificate for 2 1/2 years... Oh wait, that little game was played by Obama, not Romney...\n"
       ]
      }
     ],
     "prompt_number": 4
    },
    {
     "cell_type": "code",
     "collapsed": false,
     "input": [
      "# Clean the messages\n",
      "punctuation = '!\"#$%&\\'()*+,-./:;<=>?@[\\\\]^_`{|}~'\n",
      "# or, it can be imported from the 'string' module:\n",
      "# from string import punctuation\n",
      "\n",
      "clean_tweets = []\n",
      "for tweet in tweets:\n",
      "    for char in punctuation:\n",
      "        tweet = tweet.replace(char, '')\n",
      "        \n",
      "    tweet = tweet.lower()\n",
      "    clean_tweets.append(tweet)\n"
     ],
     "language": "python",
     "metadata": {},
     "outputs": [],
     "prompt_number": 5
    },
    {
     "cell_type": "code",
     "collapsed": false,
     "input": [
      "# Simple version, using lists everywhere, very inefficient.\n",
      "from string import maketrans, punctuation\n",
      "\n",
      "# Lists containing the positivity and negativity terms for all tweets.\n",
      "positivity = []\n",
      "negativity = []\n",
      "\n",
      "start_time = time()\n",
      "\n",
      "for tweet in clean_tweets:  # Scales with O(N_tweets)\n",
      "    words = tweet.split()\n",
      "    \n",
      "    positive = 0\n",
      "    negative = 0\n",
      "    for word in words:  # Scales with O(length_of_tweet)\n",
      "        if word in positive_words:  # Scales with O(N_pos_words)\n",
      "            positive += 1\n",
      "        elif word in negative_words:  # Scales with O(N_neg_words)\n",
      "            negative += 1\n",
      "    # Whole loop scales with O(length_of_tweet * (N_pos_words + N_neg_words))\n",
      "\n",
      "    positive = float(positive) / len(words)\n",
      "    negative = float(negative) / len(words)\n",
      "    positivity.append(positive)\n",
      "    negativity.append(negative)\n",
      "\n",
      "stop_time = time()\n",
      "print 'Time elapsed', stop_time - start_time"
     ],
     "language": "python",
     "metadata": {},
     "outputs": [
      {
       "output_type": "stream",
       "stream": "stdout",
       "text": [
        "Time elapsed 2.17957282066\n"
       ]
      }
     ],
     "prompt_number": 6
    },
    {
     "cell_type": "code",
     "collapsed": false,
     "input": [
      "# Optimized version, using sets.\n",
      "from string import maketrans, punctuation\n",
      "\n",
      "positive_words = set(positive_words)\n",
      "negative_words = set(negative_words)\n",
      "\n",
      "# Lists containing the positivity and negativity terms for all tweets.\n",
      "positivity = []\n",
      "negativity = []\n",
      "\n",
      "start_time = time()\n",
      "\n",
      "for tweet in clean_tweets:  # Scales with O(N_tweets)\n",
      "    words = set(tweet.split())   # Scales with O(len_tweet) \n",
      "    positive_intersect = words.intersection(positive_words)  # Scales with O(min(len_tweet, N_pos_words)\n",
      "    negative_intersect = words.intersection(negative_words)  # Scales with O(min(len_tweet, N_neg_words)\n",
      "\n",
      "    n_words = float(len(words))\n",
      "    positive = len(positive_intersect) / n_words\n",
      "    negative = len(negative_intersect) / n_words\n",
      "    positivity.append(positive)\n",
      "    negativity.append(negative)\n",
      "\n",
      "stop_time = time()\n",
      "print 'Time elapsed', stop_time - start_time\n",
      "\n",
      "# Note that this version is not entirely equivalent to the previous\n",
      "# one, as it counts each positive or negative word only once, even\n",
      "# if they appear multiple times (e.g., \"Love, love, LOVE Obama!\")\n",
      "# Sketch for an efficient, completely equivalent version:\n",
      "# 1) Instead of creating a set of words for each tweet, create a\n",
      "#    dictionary mapping each word to its count (a \"bag-of-words\"\n",
      "#    representation)\n",
      "# 2) Compute the intersection between the set of keys in the dictionary\n",
      "#    and the set of positive / negative words\n",
      "# 3) For each word in the intersection, sum its count number from\n",
      "#    the dictionary.\n",
      "# This solution is more complex and likely to be slighly slower, but\n",
      "# it still scales efficiently."
     ],
     "language": "python",
     "metadata": {},
     "outputs": [
      {
       "output_type": "stream",
       "stream": "stdout",
       "text": [
        "Time elapsed 0.0118849277496\n"
       ]
      }
     ],
     "prompt_number": 7
    },
    {
     "cell_type": "code",
     "collapsed": false,
     "input": [
      "most_positive = sorted(zip(positivity, tweets), reverse=True)\n",
      "for pos, tweet in most_positive[:20]:\n",
      "    print ' - ', pos, tweet"
     ],
     "language": "python",
     "metadata": {},
     "outputs": [
      {
       "output_type": "stream",
       "stream": "stdout",
       "text": [
        " -  0.4 Happy Passover, love Obama http://t.co/gHQ3NrWP\n",
        " -  0.318181818182 Obama is a great president. He's honest, loyal, friends, smart, and wants the BEST for EVERYONE in this country, not just the rich.\n",
        " -  0.3 Obama's Budget: 'Interest Payments Will Exceed Defense Budget' in 2019 http://t.co/dKy7CI8M\n",
        " -  0.272727272727 I don't even believe there is any good in humanity anymore.\n",
        " -  0.25 Obama's Budget: 'Interest Payments Will Exceed Defense Budget' in 2019 | The Weekly Standard\n",
        " -  0.230769230769 RT @Habibaty_Souria: I don't even believe there is any good in humanity anymore.\n",
        " -  0.230769230769 RT @Habibaty_Souria: I don't even believe there is any good in humanity anymore.\n",
        " -  0.230769230769 RT @BunkerBlast: RT @teacherspets Obama's Budget: 'Interest Payments Will Exceed Defense Budget' in 2019  http://t.co/uddCXCjt\n",
        " -  0.230769230769 @daanxyelll That's very mature. I'm sure Obama would love you propogating that term.\n",
        " -  0.222222222222 ACA Can Live Even If Insurance Mandate Dies: http://t.co/MhF1hyPC\n",
        " -  0.222222222222 #WhatsRomneyHiding? Obama's dignity and sense of humor? #p2 #tcot\n",
        " -  0.214285714286 Obama's Budget: 'Interest Payments Will Exceed Defense Budget' in 2019 http://t.co/oSLQ94QM and he bashes Ryan's budget.\n",
        " -  0.2 Wow the #WhatsRomneyHiding hashtag turned into something pretty pointless. I got excited for nothing. Oh, well. Team Obama let's go! ;)\n",
        " -  0.2 I love President Obama @BarackObama\n",
        " -  0.2 Congratulations to Mitt Ro... http://t.co/krM3IuSt\n",
        " -  0.2 Barack Obama Traditional Mahjong http://t.co/C67LiSDV\n",
        " -  0.2 @NHLWingsfanKay well whiter obama :P\n",
        " -  0.2 @NHLWingsfanKay romney is white obama\n",
        " -  0.1875 Santorum & bible. Romney & attorneys. Obama & drones & prison camps. RON PAUL & The CONSTITUTION. Liberty, Freedom & Justice, anyone?\n",
        " -  0.1875 In Obama's Budget, Interest Payments on the Debt Will Exceed Defense in 2019. http://t.co/ta0Gs2Su #twcot #tlot #tcot\n"
       ]
      }
     ],
     "prompt_number": 8
    },
    {
     "cell_type": "code",
     "collapsed": false,
     "input": [
      "most_negative = sorted(zip(negativity, tweets), reverse=True)\n",
      "for tweet in most_negative[:20]:\n",
      "    print ' - ', tweet"
     ],
     "language": "python",
     "metadata": {},
     "outputs": [
      {
       "output_type": "stream",
       "stream": "stdout",
       "text": [
        " -  (0.4444444444444444, 'Hatch Makes Startling Accusation Against Obama http://t.co/HVQfUzgr ..shocking headline...NOT&gt;')\n",
        " -  (0.3888888888888889, 'We need to tag Obama & define him for Nov battle. #Obama #failedleader #incompetent #wasteful #divisive #desperate #flexible #arrogant #lazy')\n",
        " -  (0.35, 'RT @CArepub: We need to tag Obama & define him for Nov battle. #Obama #failedleader #incompetent #wasteful #divisive #desperate #flexible #arrogant #lazy')\n",
        " -  (0.25, 'A lady gave me a real dollar that said Obama is a dirty rat bastard. Oh hell naw!')\n",
        " -  (0.25, \"@BrianBrownNet: Commentary: Barack Obama Mining Trayvon's Grave -  Poor Trayvon Martin, dying... http://t.co/gk6vL04x\")\n",
        " -  (0.23529411764705882, \"Is anyone else growing tired of the Obama Administration's relentless class warfare tactics? They're maddening and un-American.\")\n",
        " -  (0.23076923076923078, 'swear i just saw barack obama walking down my street...highly doubtful hahaha #INeedGlasses')\n",
        " -  (0.21428571428571427, 'After Threatening Judges, GOP Accuses Obama of Judicial Intimidation http://t.co/rHr93J15 via @dailykos -- #Republican #Disinformation')\n",
        " -  (0.21428571428571427, '@ErskineGrier Racism in punishwork for Obama and in penalty against NOLA Saints, the chocolate city.')\n",
        " -  (0.21428571428571427, '@ErskineGrier Racism in punishwork for Obama and in penalty against NOLA Saints, the chocolate city.')\n",
        " -  (0.21052631578947367, \"RT @ryanjcroft: Is anyone else growing tired of the Obama Administration's relentless class warfare tactics? They're maddening and un-American.\")\n",
        " -  (0.21052631578947367, \"RT @ryanjcroft: Is anyone else growing tired of the Obama Administration's relentless class warfare tactics? They're maddening and un-American.\")\n",
        " -  (0.2, 'barrack hussein obama is a traitor and a hater of freedom.')\n",
        " -  (0.2, \"@ericbolling #Hillary's gonna challenge #Obama\")\n",
        " -  (0.2, '@BrianBrownNet: Exposing the Obama-Soetoro deception -')\n",
        " -  (0.16666666666666666, 'RT @poorconservativ: Obama Is Trying To Bully The Supreme Court With His Warning About Health Care Law  http://t.co/aKzIOEDM')\n",
        " -  (0.16666666666666666, \"Obama to all black Americans: I REALLY need you this time! Whitey won't be fooled twice!!   http://t.co/f8b7HLaf  #TREASON\")\n",
        " -  (0.16666666666666666, 'Obama on Constitutional Law: Did He Lie or Is He Just Ignorant? http://t.co/H1YRpYlV')\n",
        " -  (0.16666666666666666, \"Is Obama 'Dangerously Close To Totalitarianism'?\")\n",
        " -  (0.16666666666666666, 'How do you spell FAILURE - \"OBAMA\"')\n"
       ]
      }
     ],
     "prompt_number": 9
    },
    {
     "cell_type": "code",
     "collapsed": false,
     "input": [],
     "language": "python",
     "metadata": {},
     "outputs": [],
     "prompt_number": 9
    }
   ],
   "metadata": {}
  }
 ]
}