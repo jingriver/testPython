{
 "metadata": {
  "difficulty": "intermediate",
  "duration": "average",
  "exercise_number": 3,
  "flavor": "general",
  "language": "english",
  "level": "real-life",
  "module": "PyFund_string",
  "name": "",
  "pre_requisites": [
   "PyFund_string",
   "header",
   "(PyFund_FileIO)",
   "(PyFund_control)"
  ],
  "programming_goals": [],
  "python_goals": [
   "string methods"
  ],
  "signature": "sha256:9619133a91a8c2e6abe7d5f1882ed6beebdba9fa992e3bd37c4d914ef836fab9"
 },
 "nbformat": 3,
 "nbformat_minor": 0,
 "worksheets": [
  {
   "cells": [
    {
     "cell_type": "markdown",
     "metadata": {
      "canopy_exercise": {
       "cell_type": "question"
      }
     },
     "source": [
      "Katrina Advisory Exercise - Solution\n",
      "====================================\n",
      "\n",
      "Whenever there's a Hurricane spinning out in the Atlantic (or Pacific), the US National Oceanic and Atomospheric Administration ([NOAA](http://www.noaa.gov/)) issues advisories about the storm's strength.  In this example, we will look at one such advisory for infamous [Hurricane Katrina](http://en.wikipedia.org/wiki/Hurricane_Katrina) that did so much damage to New Orleans in 2005.  \n",
      "\n",
      "Imagine you would like to build an application that \"reads\" storm advisories and assigns a danger level without human interaction.  There are a lot of tools that could help with this (like [NLTK](http://www.nltk.org/)) with fancy-dancy algorithms, but we're going to take a very simple approach of scanning the document for mincing words.\n",
      "\n",
      "Unlike a few of the other string exercises, the text for this example is located in a file on disk.  We haven't gotten to reading and writing files yet, but that is ok.  The following snippet of code opens the file \"katrina_advisory.txt\" (which is located in the same directory as this exercise), and dumps its contents into a string called `text`.  From here on out, you can work with `text` just as if you created the string yourself."
     ]
    },
    {
     "cell_type": "code",
     "collapsed": true,
     "input": [
      "f = open(\"katrina_advisory.txt\")\n",
      "text = f.read()\n",
      "f.close()\n",
      "print 'Content of \"katrina_advisory.txt\"'\n",
      "print '-' * 51\n",
      "print\n",
      "print text"
     ],
     "language": "python",
     "metadata": {
      "canopy_exercise": {
       "cell_type": "starting code"
      }
     },
     "outputs": [
      {
       "output_type": "stream",
       "stream": "stdout",
       "text": [
        "Content of \"katrina_advisory.txt\"\n",
        "---------------------------------------------------\n",
        "\n",
        "URGENT \u2014 WEATHER MESSAGE\n",
        "NATIONAL WEATHER SERVICE NEW ORLEANS LA\n",
        "1011 AM CDT SUN AUG 28, 2005\n",
        "\n",
        "...DEVASTATING DAMAGE EXPECTED...\n",
        "\n",
        ".HURRICANE KATRINA...A MOST POWERFUL HURRICANE WITH UNPRECEDENTED\n",
        "STRENGTH...RIVALING THE INTENSITY OF HURRICANE CAMILLE OF 1969.\n",
        "\n",
        "MOST OF THE AREA WILL BE UNINHABITABLE FOR WEEKS...PERHAPS LONGER. AT\n",
        "LEAST ONE HALF OF WELL CONSTRUCTED HOMES WILL HAVE ROOF AND WALL\n",
        "FAILURE. ALL GABLED ROOFS WILL FAIL...LEAVING THOSE HOMES SEVERELY\n",
        "DAMAGED OR DESTROYED.\n",
        "\n",
        "THE MAJORITY OF INDUSTRIAL BUILDINGS WILL BECOME NON FUNCTIONAL.\n",
        "PARTIAL TO COMPLETE WALL AND ROOF FAILURE IS EXPECTED. ALL WOOD\n",
        "FRAMED LOW RISING APARTMENT BUILDINGS WILL BE DESTROYED. CONCRETE\n",
        "BLOCK LOW RISE APARTMENTS WILL SUSTAIN MAJOR DAMAGE...INCLUDING SOME\n",
        "WALL AND ROOF FAILURE.\n",
        "\n",
        "HIGH RISE OFFICE AND APARTMENT BUILDINGS WILL SWAY DANGEROUSLY...A\n",
        "FEW TO THE POINT OF TOTAL COLLAPSE. ALL WINDOWS WILL BLOW OUT.\n",
        "\n",
        "AIRBORNE DEBRIS WILL BE WIDESPREAD...AND MAY INCLUDE HEAVY ITEMS SUCH\n",
        "AS HOUSEHOLD APPLIANCES AND EVEN LIGHT VEHICLES. SPORT UTILITY VEHICLES\n",
        "AND LIGHT TRUCKS WILL BE MOVED. THE BLOWN DEBRIS WILL CREATE\n",
        "ADDITIONAL DESTRUCTION. PERSONS...PETS...AND LIVESTOCK EXPOSED TO THE\n",
        "WINDS WILL FACE CERTAIN DEATH IF STRUCK.\n",
        "\n",
        "POWER OUTAGES WILL LAST FOR WEEKS...AS MOST POWER POLES WILL BE DOWN\n",
        "AND TRANSFORMERS DESTROYED. WATER SHORTAGES WILL MAKE HUMAN SUFFERING\n",
        "INCREDIBLE BY MODERN STANDARDS.\n",
        "\n",
        "THE VAST MAJORITY OF NATIVE TREES WILL BE SNAPPED OR UPROOTED. ONLY\n",
        "THE HEARTIEST WILL REMAIN STANDING...BUT BE TOTALLY DEFOLIATED. FEW\n",
        "CROPS WILL REMAIN. LIVESTOCK LEFT EXPOSED TO THE WINDS WILL BE\n",
        "KILLED.\n",
        "\n",
        "AN INLAND HURRICANE WIND WARNING IS ISSUED WHEN SUSTAINED WINDS NEAR\n",
        "HURRICANE FORCE...OR FREQUENT GUSTS AT OR ABOVE HURRICANE FORCE...ARE\n",
        "CERTAIN WITHIN THE NEXT 12 TO 24 HOURS.\n",
        "\n",
        "ONCE TROPICAL STORM AND HURRICANE FORCE WINDS ONSET...DO NOT VENTURE\n",
        "OUTSIDE!\n",
        "\n"
       ]
      }
     ],
     "prompt_number": 1
    },
    {
     "cell_type": "markdown",
     "metadata": {
      "canopy_exercise": {
       "cell_type": "question"
      }
     },
     "source": [
      "Question 1\n",
      "----------\n",
      "Text and data processing always starts by some clean up. Format the text by converting it to lower case, remove spaces before and \n",
      "after the content. "
     ]
    },
    {
     "cell_type": "code",
     "collapsed": true,
     "input": [
      "# you could do this in a couple of steps:\n",
      "text = text.lower()\n",
      "text = text.strip()\n",
      "\n",
      "# Or you could do this in a one liner by \"chaining\" the method calls\n",
      "# together like so.\n",
      "text = text.lower().strip()\n",
      "\n",
      "# This works because text.lower() returns a string that we then call \n",
      "# .strip() on which also returns a string.  Take note that doing this \n",
      "# sort of chaining, while reducing line count, doesn't necessarily help \n",
      "# readability.  It is reasonable to chain 2 calls like this, but more\n",
      "# than that starts to be hard for readabilty and future debugging."
     ],
     "language": "python",
     "metadata": {
      "canopy_exercise": {
       "cell_type": "solution"
      }
     },
     "outputs": [],
     "prompt_number": 2
    },
    {
     "cell_type": "markdown",
     "metadata": {
      "canopy_exercise": {
       "cell_type": "question"
      }
     },
     "source": [
      "Question 2\n",
      "----------\n",
      "Ok.  Now for our own fancy-dancy algorithm.  Let's count the number of alarming terms in total in the processed `text`. For our purposes, we'll consider the following terms as alarming: \"killed\", \"destroyed\", \"death\", \"devastating\". (They all seem fairly alarming to me...)"
     ]
    },
    {
     "cell_type": "code",
     "collapsed": true,
     "input": [
      "num_alarming_terms = (text.count(\"killed\") + text.count(\"destroyed\")\n",
      "                      + text.count(\"death\") + text.count(\"devastating\"))"
     ],
     "language": "python",
     "metadata": {
      "canopy_exercise": {
       "cell_type": "solution"
      }
     },
     "outputs": [],
     "prompt_number": 3
    },
    {
     "cell_type": "markdown",
     "metadata": {
      "canopy_exercise": {
       "cell_type": "question"
      }
     },
     "source": [
      "Question 3\n",
      "----------\n",
      "Let's also track how urgent NOAA thought the message was.  For this, we'll see if they started the message with the word \"URGENT\" (or \"urgent\").  Make a variable called `is_urgent` that is `True` if \"urgent\" is the first word and `False` otherwise.  As a hint, look at the methods available on strings.  At least one of them will be stunningly useful for our purposes..."
     ]
    },
    {
     "cell_type": "code",
     "collapsed": true,
     "input": [
      "is_urgent = text.startswith(\"urgent\")\n",
      "print \"Starts with urgent?\", is_urgent"
     ],
     "language": "python",
     "metadata": {
      "canopy_exercise": {
       "cell_type": "solution"
      }
     },
     "outputs": [
      {
       "output_type": "stream",
       "stream": "stdout",
       "text": [
        "Starts with urgent? True\n"
       ]
      }
     ],
     "prompt_number": 4
    },
    {
     "cell_type": "markdown",
     "metadata": {},
     "source": [
      "Question 4\n",
      "----------\n",
      "Now, let's compute an \"alarming words ratio\" as the number of alarming terms divided by the total number of words.\n",
      "\n",
      "The total number of words can be computed by splitting the string in individual words, then using the command `len` on the resulting list of words. \n",
      "\n",
      "Print the ratio with a precision of 3 decimal digits."
     ]
    },
    {
     "cell_type": "code",
     "collapsed": false,
     "input": [
      "num_words = len(text.split())\n",
      "ratio = num_alarming_terms / float(num_words)\n",
      "print \"Alarming words ratio = {:.3f}\".format(ratio)"
     ],
     "language": "python",
     "metadata": {},
     "outputs": [
      {
       "output_type": "stream",
       "stream": "stdout",
       "text": [
        "Alarming words ratio = 0.022\n"
       ]
      }
     ],
     "prompt_number": 5
    }
   ],
   "metadata": {}
  }
 ]
}